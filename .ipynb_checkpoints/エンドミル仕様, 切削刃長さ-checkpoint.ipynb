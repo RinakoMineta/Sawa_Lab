{
 "cells": [
  {
   "cell_type": "code",
   "execution_count": 1,
   "id": "eef4dc06",
   "metadata": {},
   "outputs": [],
   "source": [
    "import numpy as np\n",
    "import pandas as pd\n",
    "import math"
   ]
  },
  {
   "cell_type": "markdown",
   "id": "da47a0bc",
   "metadata": {},
   "source": [
    "## 1. コーナー部の関数"
   ]
  },
  {
   "cell_type": "markdown",
   "id": "53da0258",
   "metadata": {},
   "source": [
    "### 1.1 エンドミル仕様の関数"
   ]
  },
  {
   "cell_type": "code",
   "execution_count": 2,
   "id": "7ca653d4",
   "metadata": {},
   "outputs": [],
   "source": [
    "def arc_contact(R, d ,T): #接触弧長さの関数\n",
    "    r = d / 2 #エンドミル半径\n",
    "    \n",
    "    #計算用変数の定義\n",
    "    A = R - r\n",
    "    B = R ** 2 - r ** 2 + A ** 2 - 2 * T ** 2\n",
    "    m = 1 + ((T + A) / T) ** 2\n",
    "    n = 2 * A + B * (T + A) / T ** 2\n",
    "    l = (A ** 2) + ((B ** 2) / (4 * T ** 2)) - (r ** 2)\n",
    "    \n",
    "    x = (- n + np.sqrt(n ** 2 - 4 * m * l)) / (2 * m) #交点のx座標\n",
    "    \n",
    "    #場合分け\n",
    "    if x <= T:\n",
    "        t = R + x\n",
    "        L = r * np.arccos(1- t / r)\n",
    "    \n",
    "    else:\n",
    "        alpha = A ** 2 + R ** 2 - 2 * R * T - r ** 2 + T ** 2\n",
    "        X = A + np.sqrt(A ** 2 - alpha)\n",
    "        t = R + X\n",
    "        L = R * np.arccos(1 - (t / r))\n",
    "    \n",
    "    return L"
   ]
  },
  {
   "cell_type": "code",
   "execution_count": 3,
   "id": "abaead02",
   "metadata": {},
   "outputs": [],
   "source": [
    "def number_of_blades(R, d, n, T): #エンドミル刃数の関数(切削刃長さ一定の時)\n",
    "    r = d / 2 #エンドミル半径\n",
    "    L =  arc_contact(R, d ,T) #接触弧長さ\n",
    "    pi = np.pi #円周率\n",
    "    \n",
    "    D = L / (n - 1) #切削刃長さ一定の条件\n",
    "    z = 2 * pi * r / D #エンドミル刃数\n",
    "    \n",
    "    return z"
   ]
  },
  {
   "cell_type": "code",
   "execution_count": 4,
   "id": "e7fe7c86",
   "metadata": {},
   "outputs": [],
   "source": [
    "def torsion_angle(d, U, z): #ねじれ角の関数\n",
    "    pi = np.pi #円周率\n",
    "    r = d / 2 #エンドミル半径\n",
    "    \n",
    "    theta = np.arctan(2 * pi * r / U / z) #ねじれ角\n",
    "    theta = np.degrees(theta) #ラジアンをdegreeになおす\n",
    "    \n",
    "    return theta"
   ]
  },
  {
   "cell_type": "code",
   "execution_count": 5,
   "id": "b7601c3f",
   "metadata": {},
   "outputs": [],
   "source": [
    "def z_candidate(R, d, T, z_lim):#エンドミル刃数の候補を挙げる\n",
    "    list_number_of_blades = []\n",
    "\n",
    "    for n in range(2, z_lim, 1): #同時切削歯数を変化させたときのエンドミル刃数をそれぞれ求める\n",
    "        z = number_of_blades(R, d, n, T) #刃数が少数を含んで出る\n",
    "        z = np.round(z) #刃数を整数にする\n",
    "        \n",
    "        list_number_of_blades.append(z) #リストに格納\n",
    "    \n",
    "    list_number_of_blades = [i for i in list_number_of_blades if i <= z_lim] #算出された刃数のなかで最大刃数を超えるものを除外\n",
    "    \n",
    "    return list_number_of_blades"
   ]
  },
  {
   "cell_type": "code",
   "execution_count": 6,
   "id": "acdf010a",
   "metadata": {},
   "outputs": [],
   "source": [
    "def depth_radious_true(R, d, T, z_lim): #刃数を整数にしたので実際の半径方向切込みを求める\n",
    "    pi = np.pi #円周率\n",
    "    r = d / 2 #エンドミル半径\n",
    "    list_T_true = [] #格納用空リスト\n",
    "    list_number_of_blades = z_candidate(R, d, T, z_lim) #刃数の候補を呼ぶ\n",
    "    \n",
    "    #計算用変数の定義\n",
    "    A = R - r\n",
    "    B = R ** 2 - r ** 2 + A ** 2 - 2 * T ** 2\n",
    "    m = 1 + ((T + A) / T) ** 2\n",
    "    n = 2 * A + B * (T + A) / T ** 2\n",
    "    l = (A ** 2) + ((B ** 2) / (4 * T ** 2)) - (r ** 2)\n",
    "    \n",
    "    x = (- n + np.sqrt(n ** 2 - 4 * m * l)) / (2 * m) #交点のx座標\n",
    "    \n",
    "    for i in range(0, len(list_number_of_blades)): #刃数の候補それぞれに対応するaeを求める            \n",
    "        D = 2 * pi * r / list_number_of_blades[i] #刃数に対応する刃の間隔\n",
    "        L_true = (i + 1) * D #切削刃長さ一定となる接触弧\n",
    "        \n",
    "        #計算用変数\n",
    "        X = np.abs(- (R - r) - r * np.cos(L_true / r)) \n",
    "        Y = r * np.sin(L_true / r)\n",
    "        \n",
    "        #交点のx座標による場合分け\n",
    "        if x <= 0:\n",
    "            T_true = (- (X + Y) + (np.sqrt((2 * (R ** 2)) - (X ** 2) - (Y ** 2) + (2 * X * Y)))) / 2\n",
    "        \n",
    "        elif x <= R - Y:\n",
    "            T_true = (- (Y - X) + (np.sqrt((2 * (R ** 2)) - (X ** 2) - (Y ** 2) - (2 * X * Y)))) / 2\n",
    "        \n",
    "        else:\n",
    "            T_true = R - r * np.sin(L_true / r)\n",
    "        \n",
    "        list_T_true.append(T_true) #リストに格納\n",
    "    \n",
    "    return list_T_true"
   ]
  },
  {
   "cell_type": "code",
   "execution_count": 7,
   "id": "aed54b18",
   "metadata": {},
   "outputs": [],
   "source": [
    "def remove_zero(R, d, T, z_lim): #実際のaeが0になるものを除く\n",
    "    list_number_of_blades = z_candidate(R, d, T, z_lim) #刃数の候補を呼ぶ\n",
    "    list_T_true = depth_radious_true(R, d, T, z_lim) #aeの候補を呼ぶ\n",
    "    \n",
    "    #格納用空リスト\n",
    "    list_number_of_blades_arg = []\n",
    "    list_T_true_arg = []\n",
    "    \n",
    "    for i in range(0, len(list_number_of_blades)): #実際のaeが0になるものを除く\n",
    "        \n",
    "        if not list_T_true[i] == 0: #aeの候補i番目が0でなかったら\n",
    "            list_number_of_blades_arg.append(list_number_of_blades[i]) #刃数の候補i番目の刃数を格納\n",
    "            list_T_true_arg.append(list_T_true[i]) #aeの候補i番目のaeを格納\n",
    "    \n",
    "    return list_number_of_blades_arg, list_T_true_arg"
   ]
  },
  {
   "cell_type": "code",
   "execution_count": 8,
   "id": "b6f8b089",
   "metadata": {},
   "outputs": [],
   "source": [
    "def differ_calc(R, d, T, z_lim): #目標aeと実際のaeとの差\n",
    "    list_differ = [] #格納用空リスト\n",
    "    \n",
    "    list_T_true = remove_zero(R, d, T, z_lim)[1] #aeの候補を呼ぶ\n",
    "    \n",
    "    for i in range(0, len(list_T_true)): #aeの候補それぞれに対応する目標aeとの差を求める\n",
    "        differ = np.abs(T - list_T_true[i]) #差の絶対値\n",
    "        list_differ.append(differ) #リストに格納\n",
    "    \n",
    "    return list_differ"
   ]
  },
  {
   "cell_type": "code",
   "execution_count": 9,
   "id": "7272ac5f",
   "metadata": {},
   "outputs": [],
   "source": [
    "def spec_endmill(R, d, ae, ap, z_lim): #エンドミル仕様を出力\n",
    "    T = ae #以下aeをTとおく\n",
    "    U = ap #以下apをUとおく\n",
    "    \n",
    "    if d / 2 > R: #エンドミル径が隅Rを超えている場合(計算不可)\n",
    "        \n",
    "        return print('エンドミル径が隅Rを超えてます')\n",
    "    \n",
    "    else: #計算可能な場合\n",
    "        list_number_of_blades = z_candidate(R, d, T, z_lim) #刃数の候補を呼ぶ\n",
    "        list_T_true =remove_zero(R, d, T, z_lim)[1] #実際のaeの候補を呼ぶ\n",
    "    \n",
    "    \n",
    "    if len(list_number_of_blades) == 0: #刃数の候補が空だった場合(最大刃数を超える候補しかなかった場合)\n",
    "        \n",
    "        return print('最大刃数を超えました')\n",
    "    \n",
    "    elif len(list_T_true) == 0: #実際のaeが0になる場合(意味を持たない)\n",
    "        \n",
    "        return print('不可能な値です')\n",
    "    \n",
    "    else: #意味を持つ候補がある場合\n",
    "        list_differ = differ_calc(R, d, T, z_lim) #目標aeと実aeの差を呼ぶ\n",
    "        list_number_of_blades = remove_zero(R, d, T, z_lim)[0] #刃数の候補を呼ぶ\n",
    "        \n",
    "        n_min_differ = list_differ.index(min(list_differ)) #差が最小になるリスト番号を調べる\n",
    "        \n",
    "        z_dif = list_number_of_blades[n_min_differ] #差が最小になる刃数を抽出\n",
    "        theta_dif = np.round(torsion_angle(d, U ,z_dif), decimals = 1) #ねじれ角を求める\n",
    "        T_true = np.round(list_T_true[n_min_differ], decimals = 3) #差が最小になる実際のT\n",
    "        \n",
    "        D_dif = np.pi * d /z_dif\n",
    "        L_true = arc_contact(R, d, T_true)\n",
    "        n_dif = (L_true / D_dif) + 1\n",
    "        n_dif = np.round(n_dif)\n",
    "        \n",
    "        #出力をまとめる\n",
    "        end_mil = pd.DataFrame(\n",
    "            data = np.array(\n",
    "                [[z_dif, theta_dif, T_true, n_dif]]\n",
    "            ),\n",
    "            index = ['エンドミル仕様'],\n",
    "            columns = ['刃数', 'ねじれ角', 'この仕様でのae', '同時切削刃数']\n",
    "        )\n",
    "        \n",
    "        return end_mil"
   ]
  },
  {
   "cell_type": "markdown",
   "id": "82dcd808",
   "metadata": {},
   "source": [
    "### 1.2 切込み深さの関数"
   ]
  },
  {
   "cell_type": "code",
   "execution_count": 10,
   "id": "fbe4cec9",
   "metadata": {},
   "outputs": [],
   "source": [
    "def ae_calc(R, d, z, N):\n",
    "    pi = np.pi\n",
    "    r = d / 2\n",
    "    D = 2 * pi * r / z\n",
    "\n",
    "    L = (N - 1) * D\n",
    "    X = np.abs(- (R - r) - r * np.cos(L / r))\n",
    "    Y = r * np.sin(L / r)\n",
    "    \n",
    "    ae_1 = (- (X + Y) + (np.sqrt(np.abs((2 * (R ** 2)) - (X ** 2) - (Y ** 2) + (2 * X * Y))))) / 2\n",
    "    ae_2 = (- (Y - X) + (np.sqrt(np.abs((2 * (R ** 2)) - (X ** 2) - (Y ** 2) - (2 * X * Y))))) / 2\n",
    "    ae_3 = R - r * np.sin(L / r)\n",
    "    \n",
    "    list_ae = [ae_1, ae_2 ,ae_3]\n",
    "    ae_candidate =[]\n",
    "    \n",
    "    if 0 in list_ae:\n",
    "        list_ae.remove(0)\n",
    "    \n",
    "    for i in range(0,len(list_ae)):\n",
    "        T = list_ae[i]\n",
    "        A = R - r\n",
    "        B = R ** 2 - r ** 2 + A ** 2 - 2 * T ** 2\n",
    "        C = 1 + ((T + A) / T) ** 2\n",
    "        D = 2 * A + B * (T + A) / T ** 2\n",
    "        E = (A ** 2) + ((B ** 2) / (4 * T ** 2)) - (r ** 2)\n",
    "        x = (- D + np.sqrt(np.abs(D ** 2 - 4 * C * E))) / (2 * C)\n",
    "        \n",
    "        if x <= 0:\n",
    "            ae = ae_1\n",
    "    \n",
    "        elif x <= R - Y:\n",
    "            ae = ae_2\n",
    "        \n",
    "        else:\n",
    "            ae =ae_3\n",
    "        \n",
    "        ae_candidate.append(ae)\n",
    "            \n",
    "    ae = min(ae_candidate)\n",
    "\n",
    "    return ae"
   ]
  },
  {
   "cell_type": "code",
   "execution_count": 11,
   "id": "e090d70b",
   "metadata": {},
   "outputs": [],
   "source": [
    "def depth_cut(R, d, z, theta, m):\n",
    "    ae_candidate = []\n",
    "    \n",
    "    for N in range(2, z):\n",
    "        ae = ae_calc(R, d, z, N)\n",
    "        ae_candidate.append(ae)\n",
    "    \n",
    "    if 0 in ae_candidate:\n",
    "        ae_candidate.remove(0)\n",
    "        \n",
    "    ae = min(ae_candidate)\n",
    "    \n",
    "    pi = np.pi\n",
    "    theta = np.radians(theta)\n",
    "    r = d / 2\n",
    "    \n",
    "    D = 2 * pi * r / z\n",
    "    L = arc_contact(R, d, ae)\n",
    "    N = L / D\n",
    "    N = np.round(N)\n",
    "    ap = (D / np.tan(theta)) * m\n",
    "    \n",
    "    n = N + m\n",
    "    \n",
    "    ae = np.round(ae, decimals = 2)\n",
    "    ap = np.round(ap, decimals = 2)\n",
    "    \n",
    "    depth_cut = pd.DataFrame(\n",
    "        data = np.array([[ae, ap, n]]),\n",
    "        index = ['切込み深さ'],\n",
    "        columns = ['半径方向ae', '軸方向ap', '同時切削刃数']\n",
    "    )\n",
    "\n",
    "    return depth_cut"
   ]
  },
  {
   "cell_type": "markdown",
   "id": "0a811e60",
   "metadata": {},
   "source": [
    "### 1.3 切削刃長さの関数"
   ]
  },
  {
   "cell_type": "code",
   "execution_count": 12,
   "id": "d6872a99",
   "metadata": {},
   "outputs": [],
   "source": [
    "def length_blades_contact(R, d, z, theta, T, U ,u):\n",
    "    pi = np.pi\n",
    "    r = d / 2\n",
    "    theta = np.radians(theta)\n",
    "    sin = np.sin(theta)\n",
    "    \n",
    "    D = 2 * pi * r / z #刃の間隔\n",
    "    L = arc_contact(R, d ,T)\n",
    "    rho = U / (D / sin) #場合分けの変数\n",
    "    m = math.floor(rho)\n",
    "    N = math.floor(L / D) + 1 #接触弧上の刃数\n",
    "    n = N + m #同時切削刃数\n",
    "    t = (L - ((N - 1) * D)) #変数の定義\n",
    "    \n",
    "    l = (m + 1) * (N - 1) * (D / sin) - (N - 1) * (t / sin) + m * (t / sin) + (u / sin) #切削刃長さの計算\n",
    "    \n",
    "    return l"
   ]
  },
  {
   "cell_type": "code",
   "execution_count": 13,
   "id": "2fed58e5",
   "metadata": {},
   "outputs": [],
   "source": [
    "def contact_blades_length(R, d, z, theta , T, U):\n",
    "\n",
    "    pi = np.pi\n",
    "    r = d / 2\n",
    "    D = 2 * pi * r / z\n",
    "\n",
    "    L = arc_contact(R, d ,T)\n",
    "    N = math.floor(L / D) + 1 #接触弧上の刃数\n",
    "    t = (L - ((N - 1) * D))\n",
    "    \n",
    "    l_max = length_blades_contact(R, d, z, theta, T, U, t)\n",
    "    l_min = length_blades_contact(R, d, z, theta, T, U, 0)\n",
    "    \n",
    "    width = l_max - l_min\n",
    "    \n",
    "    theta = np.radians(theta)\n",
    "    rho = U / (D / np.sin(theta))\n",
    "    m = math.floor(rho)\n",
    "    n = N + m\n",
    "    \n",
    "    l_max = np.round(l_max, decimals = 2)\n",
    "    l_min = np.round(l_min, decimals = 2)\n",
    "    width = np.round(width, decimals = 2)\n",
    "    \n",
    "    if width == 0:\n",
    "        contact_blades_length = print('切削刃長さ', l_max, '(一定)')\n",
    "        \n",
    "    else:\n",
    "        contact_blades_length = pd.DataFrame(\n",
    "            data = np.array([[l_max, l_min, width, n]]),\n",
    "            index = ['切削刃長さ'],\n",
    "            columns = ['最大', '最小', '変化量', '同時切削刃数']\n",
    "        )\n",
    "    \n",
    "    return contact_blades_length"
   ]
  },
  {
   "cell_type": "markdown",
   "id": "83ac9f76",
   "metadata": {},
   "source": [
    "## 2. 直線部の関数"
   ]
  },
  {
   "cell_type": "code",
   "execution_count": 14,
   "id": "5dcef96b",
   "metadata": {},
   "outputs": [],
   "source": [
    "def interval_blades(d, z): #エンドミルの刃の間隔\n",
    "    pi = np.pi\n",
    "    r = d / 2\n",
    "    \n",
    "    D = 2 * pi * r / z\n",
    "    \n",
    "    return D"
   ]
  },
  {
   "cell_type": "markdown",
   "id": "955b9047",
   "metadata": {},
   "source": [
    "## 2.1 切込み深さの関数"
   ]
  },
  {
   "cell_type": "code",
   "execution_count": 15,
   "id": "ab2e1bcd",
   "metadata": {},
   "outputs": [],
   "source": [
    "def depth_cut_straight(d, z, theta): #直線部の半径方向切込み\n",
    "    theta = np.radians(theta)\n",
    "    r = d / 2\n",
    "    D = interval_blades(d, z)\n",
    "    \n",
    "    list_ae_s = []\n",
    "    \n",
    "    for N in range(2, z):\n",
    "        ae_s = r * (1 - np.cos(((N - 1) * D) / r))\n",
    "        list_ae_s.append(ae_s)\n",
    "    \n",
    "    if 0 in list_ae_s:\n",
    "        list_ae_s.remove(0)\n",
    "    \n",
    "    ae_s = min(list_ae_s)\n",
    "    \n",
    "    ap_s = D / np.tan(theta)\n",
    "    \n",
    "    L = r * np.arccos(1 - (ae_s / r))\n",
    "    n = (L / D) + 1\n",
    "    \n",
    "    ae_s = np.round(ae_s, decimals = 2)\n",
    "    ap_s = np.round(ap_s, decimals = 2)\n",
    "    n = np.round(n)\n",
    "    \n",
    "    depth_cut_s = pd.DataFrame(\n",
    "        data = np.array([[ae_s, ap_s, n]]),\n",
    "        index = ['切込み深さ'],\n",
    "        columns = ['半径方向ae', '軸方向ap', '同時切削刃数']\n",
    "    )\n",
    "    \n",
    "    return depth_cut_s"
   ]
  },
  {
   "cell_type": "markdown",
   "id": "628759f6",
   "metadata": {},
   "source": [
    "# コーナー部"
   ]
  },
  {
   "cell_type": "markdown",
   "id": "95b7bf05",
   "metadata": {},
   "source": [
    "### 同時切削刃数, 切削刃長さ：一定のもとで 切込み深さからエンドミル仕様を求める（目標aeと最も近い値をとるものが算出される）"
   ]
  },
  {
   "cell_type": "code",
   "execution_count": 16,
   "id": "363a2be3",
   "metadata": {},
   "outputs": [
    {
     "data": {
      "text/html": [
       "<div>\n",
       "<style scoped>\n",
       "    .dataframe tbody tr th:only-of-type {\n",
       "        vertical-align: middle;\n",
       "    }\n",
       "\n",
       "    .dataframe tbody tr th {\n",
       "        vertical-align: top;\n",
       "    }\n",
       "\n",
       "    .dataframe thead th {\n",
       "        text-align: right;\n",
       "    }\n",
       "</style>\n",
       "<table border=\"1\" class=\"dataframe\">\n",
       "  <thead>\n",
       "    <tr style=\"text-align: right;\">\n",
       "      <th></th>\n",
       "      <th>刃数</th>\n",
       "      <th>ねじれ角</th>\n",
       "      <th>この仕様でのae</th>\n",
       "      <th>同時切削刃数</th>\n",
       "    </tr>\n",
       "  </thead>\n",
       "  <tbody>\n",
       "    <tr>\n",
       "      <th>エンドミル仕様</th>\n",
       "      <td>8.0</td>\n",
       "      <td>38.1</td>\n",
       "      <td>0.879</td>\n",
       "      <td>4.0</td>\n",
       "    </tr>\n",
       "  </tbody>\n",
       "</table>\n",
       "</div>"
      ],
      "text/plain": [
       "          刃数  ねじれ角  この仕様でのae  同時切削刃数\n",
       "エンドミル仕様  8.0  38.1     0.879     4.0"
      ]
     },
     "execution_count": 16,
     "metadata": {},
     "output_type": "execute_result"
    }
   ],
   "source": [
    "spec_endmill(\n",
    "    3, #隅R\n",
    "    6, #エンドミル径\n",
    "    0.8, #径方向切込み\n",
    "    3, #軸方向切込み\n",
    "    10, #最大刃数\n",
    ")"
   ]
  },
  {
   "cell_type": "markdown",
   "id": "3325b7e0",
   "metadata": {},
   "source": [
    "### 同時切削刃数, 切削刃長さ：一定の下でエンドミル仕様から切込み深さを求める(最小値が算出される)"
   ]
  },
  {
   "cell_type": "code",
   "execution_count": 34,
   "id": "f59a4672",
   "metadata": {},
   "outputs": [
    {
     "data": {
      "text/html": [
       "<div>\n",
       "<style scoped>\n",
       "    .dataframe tbody tr th:only-of-type {\n",
       "        vertical-align: middle;\n",
       "    }\n",
       "\n",
       "    .dataframe tbody tr th {\n",
       "        vertical-align: top;\n",
       "    }\n",
       "\n",
       "    .dataframe thead th {\n",
       "        text-align: right;\n",
       "    }\n",
       "</style>\n",
       "<table border=\"1\" class=\"dataframe\">\n",
       "  <thead>\n",
       "    <tr style=\"text-align: right;\">\n",
       "      <th></th>\n",
       "      <th>半径方向ae</th>\n",
       "      <th>軸方向ap</th>\n",
       "      <th>同時切削刃数</th>\n",
       "    </tr>\n",
       "  </thead>\n",
       "  <tbody>\n",
       "    <tr>\n",
       "      <th>切込み深さ</th>\n",
       "      <td>0.4</td>\n",
       "      <td>2.01</td>\n",
       "      <td>5.0</td>\n",
       "    </tr>\n",
       "  </tbody>\n",
       "</table>\n",
       "</div>"
      ],
      "text/plain": [
       "       半径方向ae  軸方向ap  同時切削刃数\n",
       "切込み深さ     0.4   2.01     5.0"
      ]
     },
     "execution_count": 34,
     "metadata": {},
     "output_type": "execute_result"
    }
   ],
   "source": [
    "depth_cut(\n",
    "    3, #隅R\n",
    "    6, #エンドミル径\n",
    "    12, #エンドミル刃数\n",
    "    38, #ねじれ角\n",
    "    1, #軸方向ap調節(整数のみ)\n",
    ")"
   ]
  },
  {
   "cell_type": "markdown",
   "id": "05fb9d2d",
   "metadata": {},
   "source": [
    "   ### 同時切削刃数：一定の下で 切込み深さから切削刃長さを求める"
   ]
  },
  {
   "cell_type": "code",
   "execution_count": 18,
   "id": "3ca0ab35",
   "metadata": {},
   "outputs": [
    {
     "data": {
      "text/html": [
       "<div>\n",
       "<style scoped>\n",
       "    .dataframe tbody tr th:only-of-type {\n",
       "        vertical-align: middle;\n",
       "    }\n",
       "\n",
       "    .dataframe tbody tr th {\n",
       "        vertical-align: top;\n",
       "    }\n",
       "\n",
       "    .dataframe thead th {\n",
       "        text-align: right;\n",
       "    }\n",
       "</style>\n",
       "<table border=\"1\" class=\"dataframe\">\n",
       "  <thead>\n",
       "    <tr style=\"text-align: right;\">\n",
       "      <th></th>\n",
       "      <th>最大</th>\n",
       "      <th>最小</th>\n",
       "      <th>変化量</th>\n",
       "      <th>同時切削刃数</th>\n",
       "    </tr>\n",
       "  </thead>\n",
       "  <tbody>\n",
       "    <tr>\n",
       "      <th>切削刃長さ</th>\n",
       "      <td>15.31</td>\n",
       "      <td>14.75</td>\n",
       "      <td>0.56</td>\n",
       "      <td>4.0</td>\n",
       "    </tr>\n",
       "  </tbody>\n",
       "</table>\n",
       "</div>"
      ],
      "text/plain": [
       "          最大     最小   変化量  同時切削刃数\n",
       "切削刃長さ  15.31  14.75  0.56     4.0"
      ]
     },
     "execution_count": 18,
     "metadata": {},
     "output_type": "execute_result"
    }
   ],
   "source": [
    "contact_blades_length(\n",
    "    3, #隅R\n",
    "    6, #エンドミル径\n",
    "    8, #エンドミル刃数\n",
    "    38, #ねじれ角\n",
    "    0.02, #半径方向切込み\n",
    "    5.67, #軸方向切込み\n",
    ")"
   ]
  },
  {
   "cell_type": "markdown",
   "id": "c6f32320",
   "metadata": {},
   "source": [
    "# 直線部"
   ]
  },
  {
   "cell_type": "markdown",
   "id": "fbce915d",
   "metadata": {},
   "source": [
    "### 同時切削刃数, 切削刃長さ：一定の下でエンドミル仕様から切込み深さを求める(最小値が算出される)"
   ]
  },
  {
   "cell_type": "code",
   "execution_count": 41,
   "id": "4bdffe8a",
   "metadata": {},
   "outputs": [
    {
     "data": {
      "text/html": [
       "<div>\n",
       "<style scoped>\n",
       "    .dataframe tbody tr th:only-of-type {\n",
       "        vertical-align: middle;\n",
       "    }\n",
       "\n",
       "    .dataframe tbody tr th {\n",
       "        vertical-align: top;\n",
       "    }\n",
       "\n",
       "    .dataframe thead th {\n",
       "        text-align: right;\n",
       "    }\n",
       "</style>\n",
       "<table border=\"1\" class=\"dataframe\">\n",
       "  <thead>\n",
       "    <tr style=\"text-align: right;\">\n",
       "      <th></th>\n",
       "      <th>半径方向ae</th>\n",
       "      <th>軸方向ap</th>\n",
       "      <th>同時切削刃数</th>\n",
       "    </tr>\n",
       "  </thead>\n",
       "  <tbody>\n",
       "    <tr>\n",
       "      <th>切込み深さ</th>\n",
       "      <td>2.07</td>\n",
       "      <td>4.83</td>\n",
       "      <td>2.0</td>\n",
       "    </tr>\n",
       "  </tbody>\n",
       "</table>\n",
       "</div>"
      ],
      "text/plain": [
       "       半径方向ae  軸方向ap  同時切削刃数\n",
       "切込み深さ    2.07   4.83     2.0"
      ]
     },
     "execution_count": 41,
     "metadata": {},
     "output_type": "execute_result"
    }
   ],
   "source": [
    "depth_cut_straight(\n",
    "    6, #エンドミル径\n",
    "    5, #エンドミル刃数\n",
    "    38, #ねじれ角\n",
    ")"
   ]
  },
  {
   "cell_type": "code",
   "execution_count": null,
   "id": "78ecdc0d",
   "metadata": {},
   "outputs": [],
   "source": []
  }
 ],
 "metadata": {
  "kernelspec": {
   "display_name": "Python 3 (ipykernel)",
   "language": "python",
   "name": "python3"
  },
  "language_info": {
   "codemirror_mode": {
    "name": "ipython",
    "version": 3
   },
   "file_extension": ".py",
   "mimetype": "text/x-python",
   "name": "python",
   "nbconvert_exporter": "python",
   "pygments_lexer": "ipython3",
   "version": "3.10.9"
  }
 },
 "nbformat": 4,
 "nbformat_minor": 5
}
